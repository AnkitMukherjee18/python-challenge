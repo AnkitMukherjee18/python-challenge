{
 "cells": [
  {
   "cell_type": "code",
   "execution_count": 1,
   "id": "767649f2",
   "metadata": {},
   "outputs": [],
   "source": [
    "# import election_data.csv\n",
    "import csv\n",
    "import os"
   ]
  },
  {
   "cell_type": "code",
   "execution_count": 2,
   "id": "5d2749b6",
   "metadata": {},
   "outputs": [],
   "source": [
    "# Set path for file\n",
    "election_data_csv = os.path.join(r\"C:\\Users\\bayek\\OneDrive\\Documents\\GitHub\\python-challenge\\PyPoll\\Resources\\election_data.csv\")"
   ]
  },
  {
   "cell_type": "code",
   "execution_count": 3,
   "id": "44dd0e81",
   "metadata": {},
   "outputs": [],
   "source": [
    "# Initialize variables\n",
    "total_votes = 0\n",
    "candidates = []\n",
    "candidate_votes = {}"
   ]
  },
  {
   "cell_type": "code",
   "execution_count": 4,
   "id": "2c3e4bfe",
   "metadata": {},
   "outputs": [],
   "source": [
    "# Read in the CSV file\n",
    "with open(election_data_csv, 'r') as csvfile:\n",
    "    csvreader = csv.reader(csvfile, delimiter=',')\n",
    "\n",
    "    # Skip the header row\n",
    "    header = next(csvreader)\n",
    "\n",
    "    # Loop through the data\n",
    "    for row in csvreader:\n",
    "        # Count the total number of votes cast\n",
    "        total_votes += 1\n",
    "\n",
    "        # Extract the candidate name from the row\n",
    "        candidate_name = row[2]\n",
    "\n",
    "        # Add the candidate to the list of candidates (if not already in the list)\n",
    "        if candidate_name not in candidates:\n",
    "            candidates.append(candidate_name)\n",
    "\n",
    "        # Add a vote to the candidate's total vote count\n",
    "        if candidate_name in candidate_votes:\n",
    "            candidate_votes[candidate_name] += 1\n",
    "        else:\n",
    "            candidate_votes[candidate_name] = 1"
   ]
  },
  {
   "cell_type": "code",
   "execution_count": 5,
   "id": "51896002",
   "metadata": {},
   "outputs": [],
   "source": [
    "# Initialize variables for storing the winner and the winner's vote count\n",
    "winner = \"\"\n",
    "winner_count = 0"
   ]
  },
  {
   "cell_type": "code",
   "execution_count": 9,
   "id": "0c038f39",
   "metadata": {},
   "outputs": [
    {
     "name": "stdout",
     "output_type": "stream",
     "text": [
      "Election Results\n",
      "-------------------------\n",
      "Total Votes: 369711\n",
      "-------------------------\n",
      "Charles Casper Stockham: 23.049% (85213)\n",
      "Diana DeGette: 73.812% (272892)\n",
      "Raymon Anthony Doane: 3.139% (11606)\n",
      "-------------------------\n",
      "Winner: Diana DeGette\n",
      "-------------------------\n"
     ]
    }
   ],
   "source": [
    "# Print the election results\n",
    "print(\"Election Results\")\n",
    "print(\"-\"*25)\n",
    "print(f\"Total Votes: {total_votes}\")\n",
    "print(\"-\"*25)\n",
    "\n",
    "# Loop through the list of candidates\n",
    "for candidate in candidates:\n",
    "    # Calculate the percentage of votes and the total number of votes for the candidate\n",
    "    votes = candidate_votes[candidate]\n",
    "    vote_percentage = round(votes / total_votes * 100, 3)\n",
    "\n",
    "    # Print the candidate's name, percentage of votes, and total number of votes\n",
    "    print(f\"{candidate}: {vote_percentage}% ({votes})\")\n",
    "\n",
    "    # Check if the candidate has the highest number of votes so far\n",
    "    if votes > winner_count:\n",
    "        winner = candidate\n",
    "        winner_count = votes\n",
    "        \n",
    "print(\"-\"*25)\n",
    "print(f\"Winner: {winner}\")\n",
    "print(\"-\"*25)"
   ]
  },
  {
   "cell_type": "code",
   "execution_count": null,
   "id": "0ef5c24a",
   "metadata": {},
   "outputs": [],
   "source": []
  }
 ],
 "metadata": {
  "kernelspec": {
   "display_name": "Python 3 (ipykernel)",
   "language": "python",
   "name": "python3"
  },
  "language_info": {
   "codemirror_mode": {
    "name": "ipython",
    "version": 3
   },
   "file_extension": ".py",
   "mimetype": "text/x-python",
   "name": "python",
   "nbconvert_exporter": "python",
   "pygments_lexer": "ipython3",
   "version": "3.9.13"
  }
 },
 "nbformat": 4,
 "nbformat_minor": 5
}
