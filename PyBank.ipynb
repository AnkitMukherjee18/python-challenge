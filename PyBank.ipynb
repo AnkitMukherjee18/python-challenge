{
 "cells": [
  {
   "cell_type": "code",
   "execution_count": 1,
   "id": "102e6359",
   "metadata": {},
   "outputs": [],
   "source": [
    "# Import budget_data.csv\n",
    "import csv\n",
    "import os"
   ]
  },
  {
   "cell_type": "code",
   "execution_count": 2,
   "id": "1042e0f5",
   "metadata": {},
   "outputs": [],
   "source": [
    "# Define function to read the CSV file and return two lists\n",
    "def read_csv_file(file_path):\n",
    "    dates = []\n",
    "    profit_losses = []\n",
    "    with open(file_path, 'r') as csvfile:\n",
    "        csvreader = csv.reader(csvfile)\n",
    "        next(csvreader)  # skip header row\n",
    "        for row in csvreader:\n",
    "            dates.append(row[0])\n",
    "            profit_losses.append(int(row[1]))\n",
    "    return dates, profit_losses"
   ]
  },
  {
   "cell_type": "code",
   "execution_count": 3,
   "id": "a77b9e9f",
   "metadata": {},
   "outputs": [],
   "source": [
    "# Call the function to get the lists of dates and profit/loss values\n",
    "file_path = os.path.join(r'C:\\Users\\bayek\\OneDrive\\Documents\\GitHub\\python-challenge\\PyBank\\Resources\\budget_data.csv')\n",
    "dates, profit_losses = read_csv_file(file_path)"
   ]
  },
  {
   "cell_type": "code",
   "execution_count": 4,
   "id": "12bc0f85",
   "metadata": {},
   "outputs": [],
   "source": [
    "# Calculate the total number of months in the dataset\n",
    "total_months = len(dates)"
   ]
  },
  {
   "cell_type": "code",
   "execution_count": 5,
   "id": "f1570d36",
   "metadata": {},
   "outputs": [],
   "source": [
    "# Calculate the net total amount of profit/losses over the entire period\n",
    "net_profit_losses = sum(profit_losses)"
   ]
  },
  {
   "cell_type": "code",
   "execution_count": 6,
   "id": "f0f06805",
   "metadata": {},
   "outputs": [],
   "source": [
    "# Create a new list of changes in profit/loss values over the entire period\n",
    "changes = [profit_losses[i] - profit_losses[i-1] for i in range(1, len(profit_losses))]"
   ]
  },
  {
   "cell_type": "code",
   "execution_count": 7,
   "id": "1880cb4c",
   "metadata": {},
   "outputs": [],
   "source": [
    "# Calculate the average of the changes in profit/loss values over the entire period\n",
    "average_change = sum(changes) / len(changes)"
   ]
  },
  {
   "cell_type": "code",
   "execution_count": 8,
   "id": "d635aa49",
   "metadata": {},
   "outputs": [],
   "source": [
    "# Find the greatest increase and decrease in profits, along with their corresponding dates\n",
    "max_increase = max(changes)\n",
    "max_decrease = min(changes)\n",
    "max_increase_date = dates[changes.index(max_increase) + 1]\n",
    "max_decrease_date = dates[changes.index(max_decrease) + 1]"
   ]
  },
  {
   "cell_type": "code",
   "execution_count": 9,
   "id": "5e74f84d",
   "metadata": {},
   "outputs": [
    {
     "name": "stdout",
     "output_type": "stream",
     "text": [
      "Financial Analysis\n",
      "-------------------------\n",
      "Total Months: 86\n",
      "Total: $22564198\n",
      "Average Change: $-8311.11\n",
      "Greatest Increase in Profits: Aug-16 ($1862002)\n",
      "Greatest Decrease in Profits: Feb-14 ($-1825558)\n"
     ]
    }
   ],
   "source": [
    "# Print out the financial analysis results\n",
    "print(\"Financial Analysis\")\n",
    "print(\"-\"*25)\n",
    "print(f\"Total Months: {total_months}\")\n",
    "print(f\"Total: ${net_profit_losses}\")\n",
    "print(f\"Average Change: ${average_change:.2f}\")\n",
    "print(f\"Greatest Increase in Profits: {max_increase_date} (${max_increase})\")\n",
    "print(f\"Greatest Decrease in Profits: {max_decrease_date} (${max_decrease})\")"
   ]
  },
  {
   "cell_type": "code",
   "execution_count": null,
   "id": "6705d3db",
   "metadata": {},
   "outputs": [],
   "source": []
  }
 ],
 "metadata": {
  "kernelspec": {
   "display_name": "Python 3 (ipykernel)",
   "language": "python",
   "name": "python3"
  },
  "language_info": {
   "codemirror_mode": {
    "name": "ipython",
    "version": 3
   },
   "file_extension": ".py",
   "mimetype": "text/x-python",
   "name": "python",
   "nbconvert_exporter": "python",
   "pygments_lexer": "ipython3",
   "version": "3.9.13"
  }
 },
 "nbformat": 4,
 "nbformat_minor": 5
}
